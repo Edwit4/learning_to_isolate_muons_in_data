{
 "cells": [
  {
   "cell_type": "code",
   "execution_count": 1,
   "metadata": {},
   "outputs": [],
   "source": [
    "import lmdb\n",
    "import numpy as np\n",
    "import pandas as pd\n",
    "import energyflow as ef"
   ]
  },
  {
   "cell_type": "code",
   "execution_count": 2,
   "metadata": {},
   "outputs": [],
   "source": [
    "muon_pTs = pd.read_csv(f'../cms_csvs/muon_pTs.csv', header=None).to_numpy()[:,0]\n",
    "pfn_env = lmdb.open('../pfn',readonly=True)\n",
    "pfn_txn = pfn_env.begin()\n",
    "pfn_reps = []\n",
    "for i in range(pfn_env.stat()['entries']):\n",
    "    pfn_reps.append(np.frombuffer(pfn_txn.get(str(i).encode())).reshape(128,4))\n",
    "pfn_env.close()\n",
    "pfn_reps = np.array(pfn_reps)\n",
    "pfn_reps[:,:,0] = pfn_reps[:,:,0] / muon_pTs[:,np.newaxis]\n",
    "nonzeros = np.sum(pfn_reps[:,:,0],axis=1)!=0\n",
    "pfn_reps = pfn_reps[nonzeros]\n",
    "pfn_reps = [pfn_reps[i,:,:3][pfn_reps[i,:,0]>0] for i in range(len(pfn_reps))]"
   ]
  },
  {
   "cell_type": "code",
   "execution_count": 2,
   "metadata": {},
   "outputs": [],
   "source": [
    "kappa = [-1.,0.,0.25,0.5,1.,2.]\n",
    "beta = [0.25,0.5,1.,2.,3.,4.]\n",
    "efp_sets = [[ef.EFPSet(('d<=',7),('n<=',7),('p<=',1), measure='hadr', beta=b, kappa=k, normed=True)\n",
    "    for b in beta] for k in kappa]\n",
    "num_efps = len(efp_sets[0][0].graphs(('d<=',7)))"
   ]
  },
  {
   "cell_type": "code",
   "execution_count": 4,
   "metadata": {},
   "outputs": [
    {
     "name": "stdout",
     "output_type": "stream",
     "text": [
      "Computing set 12/12\r"
     ]
    }
   ],
   "source": [
    "for i in range(len(kappa)):\n",
    "    for j in range(len(beta)):\n",
    "\n",
    "        index_1d = i*len(beta)+j\n",
    "\n",
    "        print(f'Computing set {index_1d+1}/{len(kappa)*len(beta)}\\r',end='')\n",
    "\n",
    "        efps = np.zeros((len(nonzeros),num_efps))\n",
    "\n",
    "        efps[nonzeros] = efp_sets[i][j].batch_compute(pfn_reps, n_jobs=64)\n",
    "\n",
    "        map_size = 5*10995116278\n",
    "        efp_env = lmdb.open(\n",
    "            f'src/data/cms_efp_k{str(kappa[i])}_b{str(beta[j])}',\n",
    "            map_size=map_size)\n",
    "        efp_txn = efp_env.begin(write=True)\n",
    "\n",
    "        for k in range(len(efps)):\n",
    "            efp_txn.put(key=str(k).encode(),value=efps[k])\n",
    "        efp_txn.commit()\n",
    "        efp_env.close()"
   ]
  },
  {
   "cell_type": "code",
   "execution_count": null,
   "metadata": {},
   "outputs": [],
   "source": []
  }
 ],
 "metadata": {
  "kernelspec": {
   "display_name": "Python 3.10.5 ('ml_env_310')",
   "language": "python",
   "name": "python3"
  },
  "language_info": {
   "codemirror_mode": {
    "name": "ipython",
    "version": 3
   },
   "file_extension": ".py",
   "mimetype": "text/x-python",
   "name": "python",
   "nbconvert_exporter": "python",
   "pygments_lexer": "ipython3",
   "version": "3.10.5"
  },
  "orig_nbformat": 4,
  "vscode": {
   "interpreter": {
    "hash": "047e44d2a66eeaf7cdaf4fce79df803fb1ae8777b20fd1ac8fc04767950363cd"
   }
  }
 },
 "nbformat": 4,
 "nbformat_minor": 2
}
